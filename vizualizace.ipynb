{
 "cells": [
  {
   "cell_type": "code",
   "execution_count": 1,
   "metadata": {},
   "outputs": [
    {
     "data": {
      "text/plain": [
       "<AxesSubplot:xlabel='datum'>"
      ]
     },
     "execution_count": 1,
     "metadata": {},
     "output_type": "execute_result"
    },
    {
     "data": {
      "image/png": "[encoded data removed]",
      "text/plain": [
       "<Figure size 432x288 with 1 Axes>"
      ]
     },
     "metadata": {
      "needs_background": "light"
     },
     "output_type": "display_data"
    }
   ],
   "source": [
    "import pandas\n",
    "import matplotlib.pyplot as plt\n",
    "\n",
    "url = \"https://kodim.cz/cms/assets/kurzy/python-data-1/python-pro-data-1/vizualizace/ucet.csv\"\n",
    "ucet = pandas.read_csv(url, names=['datum', 'pohyb'], index_col='datum')\n",
    "ucet.plot()"
   ]
  },
  {
   "cell_type": "code",
   "execution_count": 16,
   "metadata": {},
   "outputs": [
    {
     "data": {
      "text/plain": [
       "array([[<AxesSubplot:title={'center':'hodnota'}>]], dtype=object)"
      ]
     },
     "execution_count": 16,
     "metadata": {},
     "output_type": "execute_result"
    },
    {
     "data": {
      "image/png": "[encoded data removed]",
      "text/plain": [
       "<Figure size 432x288 with 1 Axes>"
      ]
     },
     "metadata": {
      "needs_background": "light"
     },
     "output_type": "display_data"
    }
   ],
   "source": [
    "# Házení kostkami\n",
    "kostky = pandas.read_csv(\"kostky.csv\")\n",
    "# Načtěte tato data do tabulky a zobrazte histogram hodů\n",
    "# Hodnota je vždy napravo, takže musím přidat i 13, abych viděl počet hodů 12\n",
    "kostky.hist(bins=[2,3,4,5,6,7,8,9,10,11,12,13])"
   ]
  },
  {
   "cell_type": "code",
   "execution_count": 19,
   "metadata": {},
   "outputs": [
    {
     "data": {
      "text/html": [
       "<div>\n",
       "<style scoped>\n",
       "    .dataframe tbody tr th:only-of-type {\n",
       "        vertical-align: middle;\n",
       "    }\n",
       "\n",
       "    .dataframe tbody tr th {\n",
       "        vertical-align: top;\n",
       "    }\n",
       "\n",
       "    .dataframe thead th {\n",
       "        text-align: right;\n",
       "    }\n",
       "</style>\n",
       "<table border=\"1\" class=\"dataframe\">\n",
       "  <thead>\n",
       "    <tr style=\"text-align: right;\">\n",
       "      <th></th>\n",
       "      <th>0</th>\n",
       "      <th>1</th>\n",
       "    </tr>\n",
       "  </thead>\n",
       "  <tbody>\n",
       "    <tr>\n",
       "      <th>0</th>\n",
       "      <td>3</td>\n",
       "      <td>14</td>\n",
       "    </tr>\n",
       "    <tr>\n",
       "      <th>1</th>\n",
       "      <td>1</td>\n",
       "      <td>28</td>\n",
       "    </tr>\n",
       "    <tr>\n",
       "      <th>2</th>\n",
       "      <td>10</td>\n",
       "      <td>2</td>\n",
       "    </tr>\n",
       "    <tr>\n",
       "      <th>3</th>\n",
       "      <td>4</td>\n",
       "      <td>24</td>\n",
       "    </tr>\n",
       "    <tr>\n",
       "      <th>4</th>\n",
       "      <td>11</td>\n",
       "      <td>17</td>\n",
       "    </tr>\n",
       "    <tr>\n",
       "      <th>...</th>\n",
       "      <td>...</td>\n",
       "      <td>...</td>\n",
       "    </tr>\n",
       "    <tr>\n",
       "      <th>6736</th>\n",
       "      <td>4</td>\n",
       "      <td>0</td>\n",
       "    </tr>\n",
       "    <tr>\n",
       "      <th>6737</th>\n",
       "      <td>0</td>\n",
       "      <td>37</td>\n",
       "    </tr>\n",
       "    <tr>\n",
       "      <th>6738</th>\n",
       "      <td>5</td>\n",
       "      <td>2</td>\n",
       "    </tr>\n",
       "    <tr>\n",
       "      <th>6739</th>\n",
       "      <td>1</td>\n",
       "      <td>25</td>\n",
       "    </tr>\n",
       "    <tr>\n",
       "      <th>6740</th>\n",
       "      <td>7</td>\n",
       "      <td>22</td>\n",
       "    </tr>\n",
       "  </tbody>\n",
       "</table>\n",
       "<p>6741 rows × 2 columns</p>\n",
       "</div>"
      ],
      "text/plain": [
       "       0   1\n",
       "0      3  14\n",
       "1      1  28\n",
       "2     10   2\n",
       "3      4  24\n",
       "4     11  17\n",
       "...   ..  ..\n",
       "6736   4   0\n",
       "6737   0  37\n",
       "6738   5   2\n",
       "6739   1  25\n",
       "6740   7  22\n",
       "\n",
       "[6741 rows x 2 columns]"
      ]
     },
     "execution_count": 19,
     "metadata": {},
     "output_type": "execute_result"
    }
   ],
   "source": [
    "# Call centrum\n",
    "callcentrum = pandas.read_csv(\"callcentrum.csv\")\n",
    "callcentrum = callcentrum[\"hodnota\"].str.split(':', expand=True).astype(int)\n",
    "# Vidíme tabulku se dvěma sloupci - 0 (počet minut) a 1 (počet vteřin)\n",
    "callcentrum"
   ]
  },
  {
   "cell_type": "code",
   "execution_count": 24,
   "metadata": {},
   "outputs": [
    {
     "data": {
      "text/plain": [
       "<AxesSubplot:>"
      ]
     },
     "execution_count": 24,
     "metadata": {},
     "output_type": "execute_result"
    },
    {
     "data": {
      "image/png": "[encoded data removed]",
      "text/plain": [
       "<Figure size 432x288 with 1 Axes>"
      ]
     },
     "metadata": {
      "needs_background": "light"
     },
     "output_type": "display_data"
    }
   ],
   "source": [
    "callcentrum[\"sec\"] = callcentrum[0] * 60 + callcentrum[1]\n",
    "callcentrum[\"sec\"].hist()"
   ]
  },
  {
   "cell_type": "code",
   "execution_count": 27,
   "metadata": {},
   "outputs": [
    {
     "data": {
      "image/png": "[encoded data removed]",
      "text/plain": [
       "<Figure size 432x288 with 1 Axes>"
      ]
     },
     "metadata": {
      "needs_background": "light"
     },
     "output_type": "display_data"
    }
   ],
   "source": [
    "snih = [\n",
    "  [1968, 480, 351],\n",
    "  [1969, 462, 663],\n",
    "  [1970, 443, 490],\n",
    "  [1971, 518, 444],\n",
    "  [1972, 537, 420],\n",
    "  [1973, 446, 941],\n",
    "  [1974, 446, 691],\n",
    "  [1975, 450, 477],\n",
    "  [1976, 356, 395],\n",
    "  [1977, 381, 652],\n",
    "  [1978, 345, 525],\n",
    "  [1979, 430, 762],\n",
    "  [1980, 266, 316],\n",
    "  [1981, 533, 781],\n",
    "  [1982, 471, 769],\n",
    "  [1983, 407, 801],\n",
    "  [1984, 526, 633],\n",
    "  [1985, 391, 488],\n",
    "  [1986, 361, 624],\n",
    "  [1987, 470, 471],\n",
    "  [1988, 506, 514],\n",
    "  [1989, 333, 208],\n",
    "  [1990, 462, 909],\n",
    "  [1991, 438, 443],\n",
    "  [1992, 364, 488],\n",
    "  [1993, 452, 579],\n",
    "  [1994, 484, 519],\n",
    "  [1995, 460, 809],\n",
    "  [1996, 465, 682],\n",
    "  [1997, 431, 814],\n",
    "  [1998, 463, 595],\n",
    "  [1999, 460, 512],\n",
    "  [2000, 503, 750],\n",
    "  [2001, 462, 951],\n",
    "  [2002, 429, 413],\n",
    "  [2003, 405, 738],\n",
    "  [2004, 477, 777],\n",
    "  [2005, 385, 316],\n",
    "  [2006, 368, 417],\n",
    "  [2007, 513, 635],\n",
    "  [2008, 448, 689],\n",
    "  [2009, 525, 443],\n",
    "  [2010, 427, 225],\n",
    "  [2011, 460, 618],\n",
    "  [2012, 417, 742],\n",
    "  [2013, 517, 247],\n",
    "  [2014, 466, 552],\n",
    "  [2015, 523, 441],\n",
    "  [2016, 422, 690],\n",
    "  [2017, 420, 699]\n",
    "]\n",
    "\n",
    "snihdf = pandas.DataFrame(snih, columns=['rok', 'hora', 'udoli'])\n",
    "snihdf = snihdf.set_index('rok')\n",
    "# snihdf.plot(kind='box', whis=[0, 100])\n",
    "bp = plt.boxplot(snihdf, whis=[0, 100], patch_artist = True)\n",
    "bp[\"boxes\"][0].set_facecolor(\"blue\")\n",
    "bp[\"boxes\"][1].set_facecolor(\"green\")\n",
    "# for box in bp[\"boxes\"]:\n",
    "#     box.set_facecolor(\"red\")"
   ]
  }
 ],
 "metadata": {
  "kernelspec": {
   "display_name": "Python 3",
   "language": "python",
   "name": "python3"
  },
  "language_info": {
   "codemirror_mode": {
    "name": "ipython",
    "version": 3
   },
   "file_extension": ".py",
   "mimetype": "text/x-python",
   "name": "python",
   "nbconvert_exporter": "python",
   "pygments_lexer": "ipython3",
   "version": "3.9.2"
  },
  "orig_nbformat": 4
 },
 "nbformat": 4,
 "nbformat_minor": 2
}
